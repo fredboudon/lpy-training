{
 "cells": [
  {
   "cell_type": "markdown",
   "metadata": {},
   "source": [
    "# L-systems\n"
   ]
  },
  {
   "cell_type": "code",
   "execution_count": 1,
   "metadata": {
    "ExecuteTime": {
     "end_time": "2023-10-13T09:46:19.804336Z",
     "start_time": "2023-10-13T09:46:19.100728Z"
    }
   },
   "outputs": [],
   "source": [
    "from pgljupyter import *"
   ]
  },
  {
   "cell_type": "markdown",
   "metadata": {},
   "source": [
    "# Fractals\n",
    "\n",
    "## The peano curve\n",
    "\n",
    "Reproduce the following rule and generate the resulting fractal shape until iteration 3.\n",
    "\n",
    "![peanocurve](./img/peanocurve.png)\n",
    "\n"
   ]
  },
  {
   "cell_type": "code",
   "execution_count": null,
   "metadata": {
    "ExecuteTime": {
     "end_time": "2021-10-07T13:05:18.977631Z",
     "start_time": "2021-10-07T13:05:18.965083Z"
    }
   },
   "outputs": [],
   "source": [
    "%%lpy -w 5\n",
    "\n",
    "Axiom: -(90)  F\n",
    "derivation length: 3\n",
    "production:\n",
    "F --> ..."
   ]
  },
  {
   "cell_type": "markdown",
   "metadata": {},
   "source": [
    "## Hilbert curve in 3D"
   ]
  },
  {
   "cell_type": "code",
   "execution_count": null,
   "metadata": {
    "ExecuteTime": {
     "end_time": "2021-10-07T13:40:35.020404Z",
     "start_time": "2021-10-07T13:40:35.009602Z"
    }
   },
   "outputs": [],
   "source": [
    "%%lpy -w 40 -a True\n",
    "Axiom: A\n",
    "context().turtle.setAngleIncrement(90)\n",
    "\n",
    "derivation length: 4\n",
    "production:\n",
    "\n",
    "A  --> B-F+CFC+F-D&F^D-F+&&CFC+F+B// \n",
    "B  --> A&F^CFB^F^D^^-F-D^|F^B|FC^F^A// \n",
    "C  --> |D^|F^B-F+C^F^A&&FA&F^C+F+B^F^D// \n",
    "D  --> |CFB-F+B|FA&F^A&&FB-F+B|FC// \n",
    "\n",
    "interpretation:\n",
    "A --> ,(2)\n",
    "B --> ,(3)\n",
    "C --> ,(4)\n",
    "D --> ,(5)\n"
   ]
  },
  {
   "cell_type": "markdown",
   "metadata": {},
   "source": [
    "## Broccoli\n",
    "\n",
    "Generate a broccoli shape:\n",
    "\n",
    "Each node has 4 lateral children internode and an apical one.\n",
    "   - Insertion angle for lateral: 40 \n",
    "   - 90 degree between each lateral children\n",
    "Width depends on the order of ramification\n",
    "Scaling factor of 0.5 between each order\n",
    "Finish structure with sphere with size double from terminal internode\n",
    "\n",
    "![broccoli](./img/broccoli.png)"
   ]
  },
  {
   "cell_type": "code",
   "execution_count": 2,
   "metadata": {
    "ExecuteTime": {
     "end_time": "2023-10-13T09:46:24.430080Z",
     "start_time": "2023-10-13T09:46:24.418315Z"
    }
   },
   "outputs": [
    {
     "data": {
      "application/vnd.jupyter.widget-view+json": {
       "model_id": "f17dc76ffadb4aa0b47ef51d484ffd44",
       "version_major": 2,
       "version_minor": 0
      },
      "text/plain": [
       "LsystemWidget(animate=True, derivationLength=6, derivationNumber=None, is_magic=True, scene={'data': b'x\\xdaSL…"
      ]
     },
     "execution_count": 2,
     "metadata": {},
     "output_type": "execute_result"
    }
   ],
   "source": [
    "%%lpy -w 6 -a True\n",
    "a = 40\n",
    "Axiom: ,(2) _(0.3) F(1, 0.25) A(1) \n",
    "production:\n",
    "derivation length:6\n",
    "A(s) :\n",
    "     for i in range(4):\n",
    "        nproduce [/(90*i)^(a) F(s,0.1*s) A(s/2)]\n",
    "     nproduce /(137.5) F(s, 0.1*s) A(s/2)\n",
    "interpretation:\n",
    "A(s) --> @O(2*s)"
   ]
  },
  {
   "cell_type": "markdown",
   "metadata": {
    "ExecuteTime": {
     "end_time": "2021-10-06T13:41:02.257628Z",
     "start_time": "2021-10-06T13:41:02.250438Z"
    }
   },
   "source": [
    "# Random trees\n",
    "\n",
    "Generate a tree such as a the end of each segment, a random number of lateral segment children (between 2 and 4) are generated.\n",
    "  - Insertion angle: 60\n",
    "  - Divergence angle between segments at the same node: proportionnal to number of segments i.e. 360/nb\n",
    "\n",
    "![randomtree](./img/randomtree.png)"
   ]
  },
  {
   "cell_type": "code",
   "execution_count": null,
   "metadata": {
    "ExecuteTime": {
     "end_time": "2023-10-13T09:03:14.898370Z",
     "start_time": "2023-10-13T09:03:14.890771Z"
    }
   },
   "outputs": [],
   "source": [
    "%%lpy -w 10 -a True\n",
    "from random import *\n",
    "module Segment\n",
    "dl = 0.5\n",
    "ds = 0.1\n",
    "Axiom: Elasticity(0.03) A\n",
    "\n",
    "derivation length: 6\n",
    "production:\n",
    "\n",
    "A :\n",
    "    nproduce  Segment(1)\n",
    "    for i in range(2):\n",
    "        nproduce [ /(180*i) ^(60) A ]\n",
    "\n",
    "Segment(l) --> Segment(l+dl)\n",
    "\n",
    "interpretation:\n",
    "\n",
    "A --> [,(3) @O(0.15) ]\n",
    "Segment(l) --> nF(l,ds)\n",
    "endlsystem"
   ]
  },
  {
   "cell_type": "markdown",
   "metadata": {},
   "source": [
    "## Positional information"
   ]
  },
  {
   "cell_type": "code",
   "execution_count": null,
   "metadata": {
    "ExecuteTime": {
     "end_time": "2021-10-14T10:25:55.538612Z",
     "start_time": "2021-10-14T10:25:55.535332Z"
    }
   },
   "outputs": [],
   "source": [
    "from openalea.lpy.lsysparameters import *\n",
    "from openalea.plantgl.all import *"
   ]
  },
  {
   "cell_type": "code",
   "execution_count": null,
   "metadata": {
    "ExecuteTime": {
     "end_time": "2021-10-14T10:36:47.878828Z",
     "start_time": "2021-10-14T10:36:47.871531Z"
    }
   },
   "outputs": [],
   "source": [
    "\n",
    "l = LsystemParameters()\n",
    "l.add_function('h', NurbsCurve2D([(0,0.1,1),(1/3,1,1),(2/3,1,1),(1,0,1)]))\n",
    "l.add_curve('path')\n",
    "l.add_curve('leaf_path')\n",
    "l.add_curve('leaf_section', Polyline2D([(-0.5,0),(0.5,0)]))\n",
    "l.add_function('leaf_width', NurbsCurve2D([(0,0.1,1),(1/3,1,1),(2/3,1,1),(1,0,1)]))\n"
   ]
  },
  {
   "cell_type": "code",
   "execution_count": null,
   "metadata": {
    "ExecuteTime": {
     "end_time": "2021-10-14T10:41:09.151934Z",
     "start_time": "2021-10-14T10:41:09.059214Z"
    }
   },
   "outputs": [],
   "source": [
    "%%lpy -a True -w 20 -p l\n",
    "l = 10\n",
    "dl = 0.5\n",
    "Axiom : ,(2) SetGuide(path,l) A(0)\n",
    "\n",
    "derivation length: int(l/dl)\n",
    "production:\n",
    "\n",
    "A(cl) --> F(dl) [&(90)L(h(cl/l)*5)] [/(180)&(90)L(h(cl/l)*5)] A(cl+dl)\n",
    "\n",
    "\n",
    "interpretation:\n",
    "L(ll) --> /(90) Sweep(leaf_path, leaf_section, ll, 0.1, 0.5, leaf_width) \n"
   ]
  },
  {
   "cell_type": "markdown",
   "metadata": {},
   "source": [
    "## Pruning "
   ]
  },
  {
   "cell_type": "code",
   "execution_count": null,
   "metadata": {
    "ExecuteTime": {
     "end_time": "2021-10-14T10:26:05.760731Z",
     "start_time": "2021-10-14T10:26:05.749758Z"
    }
   },
   "outputs": [],
   "source": [
    "%%lpy -a True -w 20\n",
    "Axiom : A\n",
    "production:\n",
    "derivation length: 10\n",
    "\n",
    "A --> F(1)[-X(3)B][+X(3)B]A\n",
    "B --> F(1) B\n",
    "X(0) --> F(0.3)%\n",
    "X(d) --> X(d-1)"
   ]
  },
  {
   "cell_type": "code",
   "execution_count": null,
   "metadata": {},
   "outputs": [],
   "source": []
  }
 ],
 "metadata": {
  "kernelspec": {
   "display_name": "Python 3 (ipykernel)",
   "language": "python",
   "name": "python3"
  },
  "language_info": {
   "codemirror_mode": {
    "name": "ipython",
    "version": 3
   },
   "file_extension": ".py",
   "mimetype": "text/x-python",
   "name": "python",
   "nbconvert_exporter": "python",
   "pygments_lexer": "ipython3",
   "version": "3.10.10"
  }
 },
 "nbformat": 4,
 "nbformat_minor": 2
}
