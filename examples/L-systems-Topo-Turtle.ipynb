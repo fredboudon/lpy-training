{
 "cells": [
  {
   "cell_type": "markdown",
   "metadata": {},
   "source": [
    "# L-systems\n"
   ]
  },
  {
   "cell_type": "code",
   "execution_count": null,
   "metadata": {
    "ExecuteTime": {
     "end_time": "2023-10-13T08:55:11.105029Z",
     "start_time": "2023-10-13T08:55:10.388350Z"
    }
   },
   "outputs": [],
   "source": [
    "from pgljupyter import *"
   ]
  },
  {
   "cell_type": "markdown",
   "metadata": {},
   "source": [
    "## L-Py syntax\n",
    "Here comes simple examples of L-systems"
   ]
  },
  {
   "cell_type": "code",
   "execution_count": null,
   "metadata": {
    "ExecuteTime": {
     "end_time": "2021-10-08T08:20:03.099660Z",
     "start_time": "2021-10-08T08:20:03.088457Z"
    }
   },
   "outputs": [],
   "source": [
    "%%lpy -w 10 -a True\n",
    "from random import random \n",
    "MAX_AGE, dr = 10, 0.03 # constants\n",
    "module Apex(age), Internode(length,radius)\n",
    "Axiom: @Gc Apex(0)\n",
    "derivation length: 5\n",
    "production:\n",
    "Apex(age) :\n",
    "  if age < MAX_AGE:\n",
    "    produce Internode(1+ random(),0.03) /(137)[+(30)Apex(age+1)]Apex(age+1)\n",
    "\n",
    "Internode(l,r) --> Internode(l,r+dr)\n",
    "interpretation:\n",
    "Internode(l,r) --> _(r) F(l)\n",
    "endlsystem"
   ]
  },
  {
   "cell_type": "markdown",
   "metadata": {},
   "source": [
    "## Topology\n",
    "\n",
    "### String interpretation\n",
    "Interpret the following structure as an Lstring.\n",
    "\n",
    "![axialtree](./img/axialtree.png)\n"
   ]
  },
  {
   "cell_type": "code",
   "execution_count": null,
   "metadata": {
    "ExecuteTime": {
     "end_time": "2021-10-06T15:56:04.323457Z",
     "start_time": "2021-10-06T15:56:04.314300Z"
    }
   },
   "outputs": [],
   "source": [
    "%%lpy\n",
    "Axiom: "
   ]
  },
  {
   "cell_type": "markdown",
   "metadata": {},
   "source": [
    "## Turtle Geometry\n",
    "\n",
    "A basic example of turtle syntax with F and + and - symbols."
   ]
  },
  {
   "cell_type": "code",
   "execution_count": null,
   "metadata": {
    "ExecuteTime": {
     "end_time": "2021-10-08T08:20:38.608320Z",
     "start_time": "2021-10-08T08:20:38.593255Z"
    }
   },
   "outputs": [],
   "source": [
    "%%lpy -w 10\n",
    "# Set default angle to 90\n",
    "execContext().turtle.setAngleIncrement(90)\n",
    "\n",
    "Axiom: FFF-FF-F-F+F+FF-F-FFF"
   ]
  },
  {
   "cell_type": "markdown",
   "metadata": {},
   "source": [
    "#### First exercice : Draw an equilateral triangle\n",
    "\n",
    "```python\n",
    "Axiom: -(90) F(5) ... \n",
    "```\n",
    "\n",
    "![triangle](./img/triangle.png)\n",
    "\n"
   ]
  },
  {
   "cell_type": "code",
   "execution_count": null,
   "metadata": {
    "ExecuteTime": {
     "end_time": "2023-10-12T16:47:06.836119Z",
     "start_time": "2023-10-12T16:47:06.828665Z"
    }
   },
   "outputs": [],
   "source": [
    "%%lpy -w 5\n",
    "\n",
    "Axiom: -(90) F(5) ..."
   ]
  },
  {
   "cell_type": "markdown",
   "metadata": {},
   "source": [
    "### Creation of a polygon\n",
    "\n",
    "Complete the axiom that will generate the following polygonal shape. Use the command F, + et -. By default, non indicated angles are equal to 90° and length to 1.\n",
    "\n",
    "```python\n",
    "Axiom: ,(2) _(0.02) { . F    ....  } (True)\n",
    "```\n",
    "\n",
    "![mappleleaf](./img/vineleaf.png)\n",
    "\n"
   ]
  },
  {
   "cell_type": "code",
   "execution_count": null,
   "metadata": {
    "ExecuteTime": {
     "end_time": "2023-10-12T16:47:15.901589Z",
     "start_time": "2023-10-12T16:47:15.898198Z"
    }
   },
   "outputs": [],
   "source": [
    "%%lpy -w 5\n",
    "\n",
    "Axiom: ,(2) _(0.02) { . F    ....  } (True)\n"
   ]
  },
  {
   "cell_type": "markdown",
   "metadata": {},
   "source": [
    "### Leaf shape\n",
    "\n",
    "Define a section curve for the leaf. Edit it with the editor.\n",
    "Introduce @Gc et SetContour to the axiom to change the section.\n",
    "\n",
    "```python\n",
    "Axiom:  _(0.05) ,(2)  F(1,0.3) &(20) F(1,0.2) &(10) F(1,0.01)\n",
    "\n",
    "```\n",
    "\n",
    "![sweepleaf](./img/sweepleaf.png)\n",
    "\n"
   ]
  },
  {
   "cell_type": "code",
   "execution_count": null,
   "metadata": {
    "ExecuteTime": {
     "end_time": "2023-10-13T08:54:17.151541Z",
     "start_time": "2023-10-13T08:54:16.841269Z"
    }
   },
   "outputs": [],
   "source": [
    "from openalea.lpy.lsysparameters import *\n",
    "from openalea.plantgl.all import *\n",
    "l = LsystemParameters()\n",
    "l.add_curve('section')"
   ]
  },
  {
   "cell_type": "code",
   "execution_count": null,
   "metadata": {
    "ExecuteTime": {
     "end_time": "2021-10-08T09:12:06.169804Z",
     "start_time": "2021-10-08T09:12:06.120731Z"
    }
   },
   "outputs": [],
   "source": [
    "%%lpy -p l -w 5 -a True\n",
    "\n",
    "Axiom:  _(0.05) ,(2) SetContour(section) F(1,0.3) &(20) F(1,0.2) &(10) F(1,0.01)"
   ]
  },
  {
   "cell_type": "markdown",
   "metadata": {},
   "source": [
    "Define a second section curve, a path and a width function.\n",
    "Create a second model with Sweep(nerve_curve, section_curve,length, segsize,  width,width_func)\n",
    "\n",
    "```python\n",
    "Axiom:  Sweep(nerve_curve, section_curve,length, segsize,  width, width_func)\n",
    "\n",
    "```\n",
    "\n",
    "![sweepleaf](./img/sweepleaf2.png)\n"
   ]
  },
  {
   "cell_type": "code",
   "execution_count": null,
   "metadata": {
    "ExecuteTime": {
     "end_time": "2021-10-08T09:14:24.140047Z",
     "start_time": "2021-10-08T09:14:24.133916Z"
    }
   },
   "outputs": [],
   "source": [
    "l = LsystemParameters()\n",
    "l.add_function('width_variation', NurbsCurve2D([(0,1,1),(1/3,1,1),(2/3,1,1),(1,0,1)]))\n",
    "l.add_curve('nerve')\n",
    "l.add_curve('section')"
   ]
  },
  {
   "cell_type": "code",
   "execution_count": null,
   "metadata": {
    "ExecuteTime": {
     "end_time": "2021-10-08T09:14:24.894399Z",
     "start_time": "2021-10-08T09:14:24.822806Z"
    }
   },
   "outputs": [],
   "source": [
    "%%lpy -p l -w 20 -a True\n",
    "\n",
    "Axiom: ,(2) Sweep(nerve, section, 10, 0.1,  1, width_variation)"
   ]
  },
  {
   "cell_type": "markdown",
   "metadata": {},
   "source": [
    "## Branch shape\n",
    "\n",
    " - Insert an helio-tropism into the axiom. Test different values of the elasticity. Use command `@Tp` and `@Ts`\n",
    "\n",
    " - Remove tropism and insert a guide at the beginning of each branch. Edit graphically the guide to achieve curved architecture. Use `SetGuide`.\n"
   ]
  },
  {
   "cell_type": "code",
   "execution_count": null,
   "metadata": {
    "ExecuteTime": {
     "end_time": "2023-10-13T08:55:18.487457Z",
     "start_time": "2023-10-13T08:55:18.350450Z"
    }
   },
   "outputs": [],
   "source": [
    "from openalea.lpy.lsysparameters import *\n",
    "from openalea.plantgl.all import *\n",
    "l = LsystemParameters()\n",
    "l.add_curve('path')"
   ]
  },
  {
   "cell_type": "code",
   "execution_count": null,
   "metadata": {
    "ExecuteTime": {
     "end_time": "2023-10-13T08:55:20.391808Z",
     "start_time": "2023-10-13T08:55:20.374172Z"
    }
   },
   "outputs": [],
   "source": [
    "%%lpy -w 100 -a True -p l\n",
    "\n",
    "from openalea.plantgl.all import *\n",
    "from math import degrees,pi,cos\n",
    "from random import uniform, seed\n",
    "\n",
    "seed(0)\n",
    "l = 50.\n",
    "nl = 5\n",
    "phyllotaxy = 90\n",
    "max_order = 6\n",
    "diameter = lambda u : 0.05+0.5*(1-u)\n",
    "branching = lambda u : 40*cos(pi/2*u)+10\n",
    "\n",
    "module  A\n",
    "Axiom:   _(diameter(0))  @Gc A(l-1,0)\n",
    "\n",
    "derivation length: int(l)\n",
    "production:\n",
    "\n",
    "A(x, order) :\n",
    "    u = 1-x/l \n",
    "    if x <= 0 : produce\n",
    "    if x % nl == 0.0 and order < max_order:\n",
    "       nproduce   [ /(phyllotaxy*(x/nl))  &(branching(u)) A(x-1,  order+1) ]\n",
    "    produce F(1, diameter(u)) A(x-1, order)\n"
   ]
  },
  {
   "cell_type": "markdown",
   "metadata": {},
   "source": [
    "## Phyllotaxie\n",
    "\n",
    "Reproduire ces organisations\n",
    "\n",
    "\n",
    "<img src=\"./img/phyllotaxie.png\" width=\"600\">"
   ]
  },
  {
   "cell_type": "code",
   "execution_count": null,
   "metadata": {
    "ExecuteTime": {
     "end_time": "2021-10-07T13:16:06.960263Z",
     "start_time": "2021-10-07T13:16:06.918599Z"
    }
   },
   "outputs": [],
   "source": [
    "%%lpy -w 10\n",
    "Axiom: \n",
    "  for i in range(5):\n",
    "    nproduce F(1) /(137.5) [ &(120) ,(2) ~l(2) ]"
   ]
  },
  {
   "cell_type": "code",
   "execution_count": null,
   "metadata": {},
   "outputs": [],
   "source": []
  }
 ],
 "metadata": {
  "kernelspec": {
   "display_name": "Python 3 (ipykernel)",
   "language": "python",
   "name": "python3"
  },
  "language_info": {
   "codemirror_mode": {
    "name": "ipython",
    "version": 3
   },
   "file_extension": ".py",
   "mimetype": "text/x-python",
   "name": "python",
   "nbconvert_exporter": "python",
   "pygments_lexer": "ipython3",
   "version": "3.10.10"
  }
 },
 "nbformat": 4,
 "nbformat_minor": 2
}
